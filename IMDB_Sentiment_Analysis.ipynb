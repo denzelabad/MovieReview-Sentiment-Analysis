{
 "cells": [
  {
   "cell_type": "markdown",
   "metadata": {},
   "source": [
    "# IMDB Sentiment Analysis Project  \n",
    "Training a machine learning model using XGBoost to predict the sentiment of user-submitted movie reviews from IMDB. This project will be a binary classification problem, so the model will learn to distinguish between positive and negative sentiment.  "
   ]
  },
  {
   "cell_type": "markdown",
   "metadata": {},
   "source": [
    "### Import Packages"
   ]
  },
  {
   "cell_type": "code",
   "execution_count": 120,
   "metadata": {},
   "outputs": [],
   "source": [
    "import pandas as pd\n",
    "import math\n",
    "import string\n",
    "import re\n",
    "import matplotlib.pyplot as plt\n",
    "import nltk\n",
    "from nltk.corpus import stopwords\n",
    "from nltk.stem import WordNetLemmatizer\n",
    "from nltk.tokenize import word_tokenize\n",
    "from sklearn import metrics\n",
    "from sklearn.feature_extraction.text import TfidfVectorizer, CountVectorizer\n",
    "from sklearn.model_selection import train_test_split\n",
    "import xgboost as xgb\n",
    "from xgboost.sklearn import XGBClassifier\n",
    "import pickle"
   ]
  },
  {
   "cell_type": "markdown",
   "metadata": {},
   "source": [
    "### Preprocess and Clean Dataset  "
   ]
  },
  {
   "cell_type": "markdown",
   "metadata": {},
   "source": [
    "Using a custom-made web scraper I've scraped and aggregated over 120k user reviews from the IMDB 'Most Popular' list into a dataset, which contains reviews for the top 100 highest trending movies. Let's take a look at it now:"
   ]
  },
  {
   "cell_type": "code",
   "execution_count": 121,
   "metadata": {},
   "outputs": [
    {
     "data": {
      "text/plain": [
       "(123549, 2)"
      ]
     },
     "execution_count": 121,
     "metadata": {},
     "output_type": "execute_result"
    }
   ],
   "source": [
    "imdb = pd.read_csv('IMDB_Full_Reviews.csv', index_col = 0)\n",
    "imdb.shape"
   ]
  },
  {
   "cell_type": "code",
   "execution_count": 122,
   "metadata": {},
   "outputs": [
    {
     "data": {
      "text/html": [
       "<div>\n",
       "<style scoped>\n",
       "    .dataframe tbody tr th:only-of-type {\n",
       "        vertical-align: middle;\n",
       "    }\n",
       "\n",
       "    .dataframe tbody tr th {\n",
       "        vertical-align: top;\n",
       "    }\n",
       "\n",
       "    .dataframe thead th {\n",
       "        text-align: right;\n",
       "    }\n",
       "</style>\n",
       "<table border=\"1\" class=\"dataframe\">\n",
       "  <thead>\n",
       "    <tr style=\"text-align: right;\">\n",
       "      <th></th>\n",
       "      <th>Review</th>\n",
       "      <th>Rating</th>\n",
       "    </tr>\n",
       "  </thead>\n",
       "  <tbody>\n",
       "    <tr>\n",
       "      <th>0</th>\n",
       "      <td>I'll admit I raised an eyebrow when I saw that...</td>\n",
       "      <td>10.0</td>\n",
       "    </tr>\n",
       "    <tr>\n",
       "      <th>1</th>\n",
       "      <td>. . . The Riddle Maker, whose real name gets u...</td>\n",
       "      <td>9.0</td>\n",
       "    </tr>\n",
       "    <tr>\n",
       "      <th>2</th>\n",
       "      <td>The Riddler(Paul Dano, spot-on. How did it tak...</td>\n",
       "      <td>9.0</td>\n",
       "    </tr>\n",
       "    <tr>\n",
       "      <th>3</th>\n",
       "      <td>Batman helps Lieutenant James Gordon investiga...</td>\n",
       "      <td>7.0</td>\n",
       "    </tr>\n",
       "    <tr>\n",
       "      <th>4</th>\n",
       "      <td>THE BATMAN (2022) *** Robert Pattinson, Zoe Kr...</td>\n",
       "      <td>8.0</td>\n",
       "    </tr>\n",
       "  </tbody>\n",
       "</table>\n",
       "</div>"
      ],
      "text/plain": [
       "                                              Review  Rating\n",
       "0  I'll admit I raised an eyebrow when I saw that...    10.0\n",
       "1  . . . The Riddle Maker, whose real name gets u...     9.0\n",
       "2  The Riddler(Paul Dano, spot-on. How did it tak...     9.0\n",
       "3  Batman helps Lieutenant James Gordon investiga...     7.0\n",
       "4  THE BATMAN (2022) *** Robert Pattinson, Zoe Kr...     8.0"
      ]
     },
     "execution_count": 122,
     "metadata": {},
     "output_type": "execute_result"
    }
   ],
   "source": [
    "imdb.head()"
   ]
  },
  {
   "cell_type": "markdown",
   "metadata": {},
   "source": [
    "- The **Review** column contains the raw user review string  \n",
    "- The **Rating** column contains the integer representation of the number of 'stars' given to the movie by the reviewer; higher stars indicating a higher rating and vice versa for lower stars."
   ]
  },
  {
   "cell_type": "code",
   "execution_count": 123,
   "metadata": {},
   "outputs": [
    {
     "data": {
      "text/plain": [
       "Review       0\n",
       "Rating    3162\n",
       "dtype: int64"
      ]
     },
     "execution_count": 123,
     "metadata": {},
     "output_type": "execute_result"
    }
   ],
   "source": [
    "imdb.isnull().sum()"
   ]
  },
  {
   "cell_type": "markdown",
   "metadata": {},
   "source": [
    "We have a few NULL values in the **Rating** column, so we'll go ahead and delete them:"
   ]
  },
  {
   "cell_type": "code",
   "execution_count": 124,
   "metadata": {},
   "outputs": [
    {
     "data": {
      "text/plain": [
       "Review    0\n",
       "Rating    0\n",
       "dtype: int64"
      ]
     },
     "execution_count": 124,
     "metadata": {},
     "output_type": "execute_result"
    }
   ],
   "source": [
    "imdb.dropna(inplace = True)\n",
    "imdb.isnull().sum()"
   ]
  },
  {
   "cell_type": "markdown",
   "metadata": {},
   "source": [
    "In this project, we'll only be looking at a binary outcome for movie review sentiment: either positive or negative. Therefore, we need to extract only positive and negative sentiments from the star rating of each review.  \n",
    "The problem is that many mid-level star ratings (eg. reviews with 5 star rating) contain polarising sentiment in their reviews, which would make it difficult for the ML model to determine either a positive or negative outcome.  \n",
    "The easiest way to remedy this is to only include reviews that lie in the extreme ends of star-ratings. Reviews that carry ratings of 8-10 are generally positive, while reviews with 1-3 ratings are generally all negative. Reviews with ratings from 4-7 will most likely have a negative effect on the model's performance as the sentiment varies greatly in this range.  \n",
    "  \n",
    "First we'll take a look at the value counts for each rating:"
   ]
  },
  {
   "cell_type": "code",
   "execution_count": 125,
   "metadata": {},
   "outputs": [
    {
     "data": {
      "text/plain": [
       "10.0    41109\n",
       "9.0     16023\n",
       "8.0     13342\n",
       "1.0     11111\n",
       "7.0      9782\n",
       "6.0      7678\n",
       "5.0      6458\n",
       "3.0      5114\n",
       "2.0      4909\n",
       "4.0      4861\n",
       "Name: Rating, dtype: int64"
      ]
     },
     "execution_count": 125,
     "metadata": {},
     "output_type": "execute_result"
    }
   ],
   "source": [
    "imdb['Rating'].value_counts()"
   ]
  },
  {
   "cell_type": "markdown",
   "metadata": {},
   "source": [
    "We can already see that there are far more reviews in the higher star ratings than the lower ones. This will be a problem as the class imbalance may hinder the model's performance.  \n",
    "Let's remove the irrelevant reviews in the 4-7 star rating range to see how large this class imbalance is:"
   ]
  },
  {
   "cell_type": "code",
   "execution_count": 126,
   "metadata": {},
   "outputs": [
    {
     "data": {
      "text/plain": [
       "10.0    41109\n",
       "9.0     16023\n",
       "8.0     13342\n",
       "1.0     11111\n",
       "3.0      5114\n",
       "2.0      4909\n",
       "Name: Rating, dtype: int64"
      ]
     },
     "execution_count": 126,
     "metadata": {},
     "output_type": "execute_result"
    }
   ],
   "source": [
    "imdb.drop(imdb[(imdb['Rating'] > 3) & (imdb['Rating'] < 8)].index, inplace =True)\n",
    "ratings = imdb['Rating'].value_counts()\n",
    "ratings"
   ]
  },
  {
   "cell_type": "code",
   "execution_count": 127,
   "metadata": {
    "tags": [
     "hide-input"
    ]
   },
   "outputs": [
    {
     "name": "stderr",
     "output_type": "stream",
     "text": [
      "C:\\Users\\denze\\Anaconda3\\envs\\tf2_cpu\\lib\\site-packages\\pandas\\core\\indexing.py:670: SettingWithCopyWarning: \n",
      "A value is trying to be set on a copy of a slice from a DataFrame\n",
      "\n",
      "See the caveats in the documentation: https://pandas.pydata.org/pandas-docs/stable/user_guide/indexing.html#returning-a-view-versus-a-copy\n",
      "  iloc._setitem_with_indexer(indexer, value)\n"
     ]
    },
    {
     "data": {
      "text/html": [
       "<div>\n",
       "<style scoped>\n",
       "    .dataframe tbody tr th:only-of-type {\n",
       "        vertical-align: middle;\n",
       "    }\n",
       "\n",
       "    .dataframe tbody tr th {\n",
       "        vertical-align: top;\n",
       "    }\n",
       "\n",
       "    .dataframe thead th {\n",
       "        text-align: right;\n",
       "    }\n",
       "</style>\n",
       "<table border=\"1\" class=\"dataframe\">\n",
       "  <thead>\n",
       "    <tr style=\"text-align: right;\">\n",
       "      <th></th>\n",
       "      <th>Sentiment</th>\n",
       "      <th>Num_Reviews</th>\n",
       "    </tr>\n",
       "  </thead>\n",
       "  <tbody>\n",
       "    <tr>\n",
       "      <th>0</th>\n",
       "      <td>Negative</td>\n",
       "      <td>21134</td>\n",
       "    </tr>\n",
       "    <tr>\n",
       "      <th>1</th>\n",
       "      <td>Positive</td>\n",
       "      <td>70474</td>\n",
       "    </tr>\n",
       "  </tbody>\n",
       "</table>\n",
       "</div>"
      ],
      "text/plain": [
       "  Sentiment  Num_Reviews\n",
       "0  Negative        21134\n",
       "1  Positive        70474"
      ]
     },
     "execution_count": 127,
     "metadata": {},
     "output_type": "execute_result"
    }
   ],
   "source": [
    "class_dist = ratings.to_frame('Num_Reviews').rename_axis('Sentiment').reset_index()\n",
    "for i in range(class_dist.shape[0]):\n",
    "    if class_dist['Sentiment'].iloc[i] > 5:\n",
    "        class_dist['Sentiment'].iloc[i] = 'Positive'\n",
    "    elif class_dist['Sentiment'].iloc[i] < 5:\n",
    "        class_dist['Sentiment'].iloc[i] ='Negative'\n",
    "class_dist = class_dist.groupby(['Sentiment'], as_index = False).sum()\n",
    "class_dist"
   ]
  },
  {
   "cell_type": "code",
   "execution_count": 128,
   "metadata": {},
   "outputs": [
    {
     "data": {
      "image/png": "[encoded data removed]",
      "text/plain": [
       "<Figure size 576x576 with 1 Axes>"
      ]
     },
     "metadata": {},
     "output_type": "display_data"
    }
   ],
   "source": [
    "plt.figure(figsize = (8,8))\n",
    "colors = ['tomato', 'mediumseagreen']\n",
    "plt.title('Sentiment Distribution for Movie Reviews')\n",
    "plt.pie(class_dist['Num_Reviews'], labels = class_dist['Sentiment'], autopct = '%1.0f%%', startangle = 90, colors = colors)\n",
    "plt.show()"
   ]
  },
  {
   "cell_type": "markdown",
   "metadata": {},
   "source": [
    "As seen above, it is evident that the class imbalance is quite large, with our data having more than triple the number of positive reviews over negative reviews. This isn't an ideal scenario as the performance of our model is dependent on its ability to distinguish between positive and negative reviews. Having this class imbalance will most likely result in a higher bias for positive reviews and cause it to perform poorly on identifying negative ones.  \n",
    "\n",
    "One of the more straightforward solutions is to simply remove enough positive reviews so that the classes are then balanced. This will result in a lower number of total samples to train and test the model, but would largely benefit its ability to distinguish between classes. In addition, we can compile and aggregate additional reviews into our dataframe by importing the popular IMDB dataset commonly used on Kaggle. This will help make up a little of the data lost when we balance the classes. \n",
    "\n",
    "But first we'll map the star ratings into integer representations with:  \n",
    "**0**: Negative sentiment  \n",
    "**1**: Positive sentiment"
   ]
  },
  {
   "cell_type": "code",
   "execution_count": 129,
   "metadata": {},
   "outputs": [
    {
     "data": {
      "text/html": [
       "<div>\n",
       "<style scoped>\n",
       "    .dataframe tbody tr th:only-of-type {\n",
       "        vertical-align: middle;\n",
       "    }\n",
       "\n",
       "    .dataframe tbody tr th {\n",
       "        vertical-align: top;\n",
       "    }\n",
       "\n",
       "    .dataframe thead th {\n",
       "        text-align: right;\n",
       "    }\n",
       "</style>\n",
       "<table border=\"1\" class=\"dataframe\">\n",
       "  <thead>\n",
       "    <tr style=\"text-align: right;\">\n",
       "      <th></th>\n",
       "      <th>review</th>\n",
       "      <th>sentiment</th>\n",
       "    </tr>\n",
       "  </thead>\n",
       "  <tbody>\n",
       "    <tr>\n",
       "      <th>0</th>\n",
       "      <td>I'll admit I raised an eyebrow when I saw that...</td>\n",
       "      <td>1</td>\n",
       "    </tr>\n",
       "    <tr>\n",
       "      <th>1</th>\n",
       "      <td>. . . The Riddle Maker, whose real name gets u...</td>\n",
       "      <td>1</td>\n",
       "    </tr>\n",
       "    <tr>\n",
       "      <th>2</th>\n",
       "      <td>The Riddler(Paul Dano, spot-on. How did it tak...</td>\n",
       "      <td>1</td>\n",
       "    </tr>\n",
       "    <tr>\n",
       "      <th>4</th>\n",
       "      <td>THE BATMAN (2022) *** Robert Pattinson, Zoe Kr...</td>\n",
       "      <td>1</td>\n",
       "    </tr>\n",
       "    <tr>\n",
       "      <th>6</th>\n",
       "      <td>Always been a \"Batman\" fan as the D. C. legend...</td>\n",
       "      <td>1</td>\n",
       "    </tr>\n",
       "  </tbody>\n",
       "</table>\n",
       "</div>"
      ],
      "text/plain": [
       "                                              review  sentiment\n",
       "0  I'll admit I raised an eyebrow when I saw that...          1\n",
       "1  . . . The Riddle Maker, whose real name gets u...          1\n",
       "2  The Riddler(Paul Dano, spot-on. How did it tak...          1\n",
       "4  THE BATMAN (2022) *** Robert Pattinson, Zoe Kr...          1\n",
       "6  Always been a \"Batman\" fan as the D. C. legend...          1"
      ]
     },
     "execution_count": 129,
     "metadata": {},
     "output_type": "execute_result"
    }
   ],
   "source": [
    "def map_rating(rating):\n",
    "\n",
    "    if type(rating) == str:\n",
    "        if rating == 'negative':\n",
    "            return 0 # Negative sentiment\n",
    "        else:\n",
    "            return 1 # Positive sentiment\n",
    "    else:\n",
    "        if rating <= 3:\n",
    "            return 0 \n",
    "        else:\n",
    "            return 1 \n",
    "        \n",
    "imdb['Rating'] = imdb['Rating'].apply(map_rating)\n",
    "imdb.rename(columns = {'Review':'review', 'Rating':'sentiment'}, inplace = True)\n",
    "imdb.head()"
   ]
  },
  {
   "cell_type": "markdown",
   "metadata": {},
   "source": [
    "Now we'll load up the popular IMDB dataset into a dataframe. This dataset has 25k reviews each for positive and negative sentiment.   \n",
    "We'll only add the negative reviews into our existing dataframe so we don't have to remove as many positive reviews when we balance the classes."
   ]
  },
  {
   "cell_type": "code",
   "execution_count": 130,
   "metadata": {},
   "outputs": [
    {
     "data": {
      "text/html": [
       "<div>\n",
       "<style scoped>\n",
       "    .dataframe tbody tr th:only-of-type {\n",
       "        vertical-align: middle;\n",
       "    }\n",
       "\n",
       "    .dataframe tbody tr th {\n",
       "        vertical-align: top;\n",
       "    }\n",
       "\n",
       "    .dataframe thead th {\n",
       "        text-align: right;\n",
       "    }\n",
       "</style>\n",
       "<table border=\"1\" class=\"dataframe\">\n",
       "  <thead>\n",
       "    <tr style=\"text-align: right;\">\n",
       "      <th></th>\n",
       "      <th>review</th>\n",
       "      <th>sentiment</th>\n",
       "    </tr>\n",
       "  </thead>\n",
       "  <tbody>\n",
       "    <tr>\n",
       "      <th>0</th>\n",
       "      <td>One of the other reviewers has mentioned that ...</td>\n",
       "      <td>positive</td>\n",
       "    </tr>\n",
       "    <tr>\n",
       "      <th>1</th>\n",
       "      <td>A wonderful little production. &lt;br /&gt;&lt;br /&gt;The...</td>\n",
       "      <td>positive</td>\n",
       "    </tr>\n",
       "    <tr>\n",
       "      <th>2</th>\n",
       "      <td>I thought this was a wonderful way to spend ti...</td>\n",
       "      <td>positive</td>\n",
       "    </tr>\n",
       "    <tr>\n",
       "      <th>3</th>\n",
       "      <td>Basically there's a family where a little boy ...</td>\n",
       "      <td>negative</td>\n",
       "    </tr>\n",
       "    <tr>\n",
       "      <th>4</th>\n",
       "      <td>Petter Mattei's \"Love in the Time of Money\" is...</td>\n",
       "      <td>positive</td>\n",
       "    </tr>\n",
       "  </tbody>\n",
       "</table>\n",
       "</div>"
      ],
      "text/plain": [
       "                                              review sentiment\n",
       "0  One of the other reviewers has mentioned that ...  positive\n",
       "1  A wonderful little production. <br /><br />The...  positive\n",
       "2  I thought this was a wonderful way to spend ti...  positive\n",
       "3  Basically there's a family where a little boy ...  negative\n",
       "4  Petter Mattei's \"Love in the Time of Money\" is...  positive"
      ]
     },
     "execution_count": 130,
     "metadata": {},
     "output_type": "execute_result"
    }
   ],
   "source": [
    "imdb_50k = pd.read_csv('IMDB Dataset.csv')\n",
    "imdb_50k.head()"
   ]
  },
  {
   "cell_type": "code",
   "execution_count": 131,
   "metadata": {},
   "outputs": [
    {
     "data": {
      "text/plain": [
       "negative    25000\n",
       "positive    25000\n",
       "Name: sentiment, dtype: int64"
      ]
     },
     "execution_count": 131,
     "metadata": {},
     "output_type": "execute_result"
    }
   ],
   "source": [
    "imdb_50k['sentiment'].value_counts()"
   ]
  },
  {
   "cell_type": "code",
   "execution_count": 132,
   "metadata": {},
   "outputs": [
    {
     "data": {
      "text/plain": [
       "1    25000\n",
       "0    25000\n",
       "Name: sentiment, dtype: int64"
      ]
     },
     "execution_count": 132,
     "metadata": {},
     "output_type": "execute_result"
    }
   ],
   "source": [
    "imdb_50k['sentiment'] = imdb_50k['sentiment'].apply(map_rating)\n",
    "imdb_50k['sentiment'].value_counts()"
   ]
  },
  {
   "cell_type": "code",
   "execution_count": 133,
   "metadata": {},
   "outputs": [
    {
     "data": {
      "text/plain": [
       "0    25000\n",
       "Name: sentiment, dtype: int64"
      ]
     },
     "execution_count": 133,
     "metadata": {},
     "output_type": "execute_result"
    }
   ],
   "source": [
    "imdb_neg = imdb_50k[imdb_50k['sentiment'] == 0] # Extract negative reviews\n",
    "imdb_neg['sentiment'].value_counts()"
   ]
  },
  {
   "cell_type": "code",
   "execution_count": 134,
   "metadata": {},
   "outputs": [
    {
     "data": {
      "text/plain": [
       "1    70474\n",
       "0    46134\n",
       "Name: sentiment, dtype: int64"
      ]
     },
     "execution_count": 134,
     "metadata": {},
     "output_type": "execute_result"
    }
   ],
   "source": [
    "imdb = pd.concat([imdb, imdb_neg]).reset_index(drop = True) # Add the negative reviews to our existing dataframe\n",
    "imdb['sentiment'].value_counts()"
   ]
  },
  {
   "cell_type": "markdown",
   "metadata": {},
   "source": [
    "Now that the data has been combined, one thing to look out for is the possibility for duplicate movie reviews, as it's entirely possible I've scraped reviews from identical movies present in the IMDB dataset. We'll just drop these from the dataframe:"
   ]
  },
  {
   "cell_type": "code",
   "execution_count": 135,
   "metadata": {},
   "outputs": [
    {
     "name": "stdout",
     "output_type": "stream",
     "text": [
      "942\n"
     ]
    }
   ],
   "source": [
    "print(len(imdb) - len(imdb.drop_duplicates()))"
   ]
  },
  {
   "cell_type": "code",
   "execution_count": 136,
   "metadata": {},
   "outputs": [],
   "source": [
    "imdb.drop_duplicates(inplace = True)"
   ]
  },
  {
   "cell_type": "markdown",
   "metadata": {},
   "source": [
    "We'll now remove the excess positive reviews to maintain balanced classes:"
   ]
  },
  {
   "cell_type": "code",
   "execution_count": 29,
   "metadata": {},
   "outputs": [
    {
     "data": {
      "text/plain": [
       "1    45814\n",
       "0    45814\n",
       "Name: sentiment, dtype: int64"
      ]
     },
     "execution_count": 29,
     "metadata": {},
     "output_type": "execute_result"
    }
   ],
   "source": [
    "limit = imdb['sentiment'].value_counts()[0] - 1\n",
    "pos = imdb[imdb['sentiment'] == 1].reset_index(drop = True)\n",
    "neg = imdb[imdb['sentiment'] == 0]\n",
    "new = pos.loc[:limit]\n",
    "imdb = pd.concat([new, neg]).reset_index(drop = True)\n",
    "imdb['sentiment'].value_counts()\n",
    "# imdb.to_csv('imdb_clean_balanced.csv')"
   ]
  },
  {
   "cell_type": "markdown",
   "metadata": {},
   "source": [
    "### Cleaning Text Data"
   ]
  },
  {
   "cell_type": "markdown",
   "metadata": {},
   "source": [
    "Since our data consists of movie reviews written by the public, a plethora of grammatical and punctuational errors can be expected in these user-submitted reviews. This text data will need to be cleaned and configured into an appropriate format that will improve the model's performance.  \n",
    "\n",
    "We'll clean our text data using the following techniques:\n",
    "- **Removing Stopwords**\n",
    "- **Removing Punctuation**\n",
    "- **Fixing Weird Spaces**\n",
    "- **Removing HTML**\n",
    "- **Convert to Lowercase**\n",
    "- **Lemmatization**"
   ]
  },
  {
   "cell_type": "code",
   "execution_count": 137,
   "metadata": {},
   "outputs": [],
   "source": [
    "stpwrds = set(stopwords.words('english'))"
   ]
  },
  {
   "cell_type": "code",
   "execution_count": 138,
   "metadata": {},
   "outputs": [],
   "source": [
    "def remove_punc(text):\n",
    "    # Replace sentence-ending punctuation with whitespace\n",
    "    text = text.replace('.', ' ')\n",
    "    text = text.replace('!', ' ')\n",
    "    text = text.replace('?', ' ')\n",
    "    # Replace commas and brackets with whitespace\n",
    "    text = text.replace(',', ' ')\n",
    "    text = text.replace('(', ' ')\n",
    "    text = text.replace(')', ' ')\n",
    "    # Replace word-dividing punctuation with whitespace to separate words\n",
    "    text = text.replace('/', ' ')\n",
    "    text = text.replace('-', ' ')\n",
    "    # Remove the remaining punctuation from the reviews\n",
    "    text = text.translate(str.maketrans('','', string.punctuation))\n",
    "    return text\n",
    "\n",
    "def fix_space(text):\n",
    "    # Fix double spaces caused by replacing punctuation, and any other weird spaces\n",
    "    text = text.split()\n",
    "    text = \" \".join(text)\n",
    "    return text\n",
    "\n",
    "def remove_html(text):\n",
    "    # Remove html line breaks\n",
    "    text = text.replace('<br />', '')\n",
    "    # Remove all other possible html\n",
    "    pattern = re.compile('<.*?>')\n",
    "    text = pattern.sub(r'', text)\n",
    "    return text\n",
    "\n",
    "def remove_stopwords(text):\n",
    "    # Remove common stopwords\n",
    "    text = \" \".join([string for string in str(text).split() if string not in stpwrds])\n",
    "    return text\n",
    "\n",
    "def lemmatize(text):\n",
    "    # Convert words to their original lemma\n",
    "    text = \" \".join([WordNetLemmatizer().lemmatize(word) for word in text.split()])\n",
    "    return text\n",
    "\n",
    "def clean_text(text):\n",
    "    text = text.lower()\n",
    "    text = remove_html(text)\n",
    "    text = remove_punc(text)\n",
    "    text = fix_space(text)\n",
    "    text = remove_stopwords(text)\n",
    "    text = lemmatize(text)\n",
    "    return text\n",
    "\n",
    "imdb['clean_review'] = imdb['review'].apply(clean_text)"
   ]
  },
  {
   "cell_type": "markdown",
   "metadata": {},
   "source": [
    "Let's pick a random movie review and see the difference between the original text and the cleaned text:  \n",
    "\n",
    "Original:"
   ]
  },
  {
   "cell_type": "code",
   "execution_count": 252,
   "metadata": {},
   "outputs": [
    {
     "data": {
      "text/plain": [
       "\"One of My favorite movie of all time. An amazing mind boggling adventure that only Christopher Nolan could pull off. On top of that Hans Zimmer's score is absolutely exceptional and one of my all time favourites. A great story, too. Nolan just did it again and can score another great film. A true Masterpiece.\""
      ]
     },
     "execution_count": 252,
     "metadata": {},
     "output_type": "execute_result"
    }
   ],
   "source": [
    "imdb['review'][89601]"
   ]
  },
  {
   "cell_type": "markdown",
   "metadata": {},
   "source": [
    "Cleaned:"
   ]
  },
  {
   "cell_type": "code",
   "execution_count": 253,
   "metadata": {},
   "outputs": [
    {
     "data": {
      "text/plain": [
       "'one favorite movie time amazing mind boggling adventure christopher nolan could pull top han zimmer score absolutely exceptional one time favourite great story nolan score another great film true masterpiece'"
      ]
     },
     "execution_count": 253,
     "metadata": {},
     "output_type": "execute_result"
    }
   ],
   "source": [
    "imdb['clean_review'][89601]"
   ]
  },
  {
   "cell_type": "markdown",
   "metadata": {},
   "source": [
    "### Training the Model with XGBoost  "
   ]
  },
  {
   "cell_type": "markdown",
   "metadata": {},
   "source": [
    "We'll separate the data into 80% training and 20% testing sets:"
   ]
  },
  {
   "cell_type": "code",
   "execution_count": 36,
   "metadata": {},
   "outputs": [],
   "source": [
    "X_train, X_test, y_train, y_test = train_test_split(imdb['clean_review'], imdb['sentiment'],\n",
    "                                                   train_size = 0.8, random_state = 21)"
   ]
  },
  {
   "cell_type": "code",
   "execution_count": 37,
   "metadata": {},
   "outputs": [
    {
     "data": {
      "text/plain": [
       "(73302,)"
      ]
     },
     "execution_count": 37,
     "metadata": {},
     "output_type": "execute_result"
    }
   ],
   "source": [
    "X_train.shape"
   ]
  },
  {
   "cell_type": "code",
   "execution_count": 38,
   "metadata": {},
   "outputs": [
    {
     "data": {
      "text/plain": [
       "(18326,)"
      ]
     },
     "execution_count": 38,
     "metadata": {},
     "output_type": "execute_result"
    }
   ],
   "source": [
    "X_test.shape"
   ]
  },
  {
   "cell_type": "markdown",
   "metadata": {},
   "source": [
    "Our text data needs to be converted into numerical data in order to be understood by the machine learning model, so we'll use CountVectorizer to transform our data into a matrix of token counts:"
   ]
  },
  {
   "cell_type": "code",
   "execution_count": 39,
   "metadata": {},
   "outputs": [],
   "source": [
    "word_vec = CountVectorizer()\n",
    "X_train = word_vec.fit_transform(X_train)\n",
    "X_test = word_vec.transform(X_test)"
   ]
  },
  {
   "cell_type": "code",
   "execution_count": 40,
   "metadata": {},
   "outputs": [
    {
     "name": "stderr",
     "output_type": "stream",
     "text": [
      "C:\\Users\\denze\\Anaconda3\\envs\\tf2_cpu\\lib\\site-packages\\xgboost\\sklearn.py:1224: UserWarning: The use of label encoder in XGBClassifier is deprecated and will be removed in a future release. To remove this warning, do the following: 1) Pass option use_label_encoder=False when constructing XGBClassifier object; and 2) Encode your labels (y) as integers starting with 0, i.e. 0, 1, 2, ..., [num_class - 1].\n",
      "  warnings.warn(label_encoder_deprecation_msg, UserWarning)\n"
     ]
    },
    {
     "data": {
      "text/plain": [
       "XGBClassifier(base_score=0.5, booster='gbtree', colsample_bylevel=1,\n",
       "              colsample_bynode=1, colsample_bytree=1, enable_categorical=False,\n",
       "              eta=0.2, eval_metric='auc', gamma=0, gpu_id=-1,\n",
       "              importance_type=None, interaction_constraints='',\n",
       "              learning_rate=0.200000003, max_delta_step=0, max_depth=8,\n",
       "              min_child_weight=1, missing=nan, monotone_constraints='()',\n",
       "              n_estimators=600, n_jobs=8, num_parallel_tree=1, predictor='auto',\n",
       "              random_state=0, reg_alpha=0, reg_lambda=1, scale_pos_weight=1,\n",
       "              subsample=1, tree_method='exact', validate_parameters=1,\n",
       "              verbosity=None)"
      ]
     },
     "execution_count": 40,
     "metadata": {},
     "output_type": "execute_result"
    }
   ],
   "source": [
    "xgmodel = XGBClassifier(max_depth = 8, eta = 0.2, objective = 'binary:logistic', n_estimators = 600,\n",
    "                       subsample = 1, eval_metric = 'auc')\n",
    "xgmodel.fit(X_train, y_train)"
   ]
  },
  {
   "cell_type": "markdown",
   "metadata": {},
   "source": [
    "### Evaluate Model Performance"
   ]
  },
  {
   "cell_type": "code",
   "execution_count": 41,
   "metadata": {},
   "outputs": [
    {
     "data": {
      "text/plain": [
       "0.935010367783477"
      ]
     },
     "execution_count": 41,
     "metadata": {},
     "output_type": "execute_result"
    }
   ],
   "source": [
    "pred = xgmodel.predict(X_test)\n",
    "accuracy = metrics.accuracy_score(y_test, pred)\n",
    "accuracy"
   ]
  },
  {
   "cell_type": "code",
   "execution_count": 42,
   "metadata": {},
   "outputs": [
    {
     "name": "stdout",
     "output_type": "stream",
     "text": [
      "              precision    recall  f1-score   support\n",
      "\n",
      "           0       0.94      0.93      0.93      9180\n",
      "           1       0.93      0.94      0.94      9146\n",
      "\n",
      "    accuracy                           0.94     18326\n",
      "   macro avg       0.94      0.94      0.94     18326\n",
      "weighted avg       0.94      0.94      0.94     18326\n",
      "\n"
     ]
    }
   ],
   "source": [
    "print(metrics.classification_report(y_test, pred))"
   ]
  },
  {
   "cell_type": "code",
   "execution_count": 43,
   "metadata": {},
   "outputs": [
    {
     "data": {
      "text/plain": [
       "array([[8533,  647],\n",
       "       [ 544, 8602]], dtype=int64)"
      ]
     },
     "execution_count": 43,
     "metadata": {},
     "output_type": "execute_result"
    }
   ],
   "source": [
    "confusion = metrics.confusion_matrix(y_test, pred)\n",
    "confusion"
   ]
  },
  {
   "cell_type": "code",
   "execution_count": 44,
   "metadata": {},
   "outputs": [],
   "source": [
    "pickle.dump(xgmodel, open('xgmodel.pkl', 'wb'))\n",
    "pickle.dump(word_vec, open('word_vec.pkl', 'wb'))"
   ]
  }
 ],
 "metadata": {
  "kernelspec": {
   "display_name": "Python 3",
   "language": "python",
   "name": "python3"
  },
  "language_info": {
   "codemirror_mode": {
    "name": "ipython",
    "version": 3
   },
   "file_extension": ".py",
   "mimetype": "text/x-python",
   "name": "python",
   "nbconvert_exporter": "python",
   "pygments_lexer": "ipython3",
   "version": "3.7.7"
  }
 },
 "nbformat": 4,
 "nbformat_minor": 5
}
